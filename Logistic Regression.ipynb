{
 "cells": [
  {
   "cell_type": "code",
   "execution_count": 1,
   "metadata": {},
   "outputs": [
    {
     "name": "stderr",
     "output_type": "stream",
     "text": [
      "/home/aditya/anaconda3/lib/python3.6/site-packages/h5py/__init__.py:36: FutureWarning: Conversion of the second argument of issubdtype from `float` to `np.floating` is deprecated. In future, it will be treated as `np.float64 == np.dtype(float).type`.\n",
      "  from ._conv import register_converters as _register_converters\n"
     ]
    }
   ],
   "source": [
    "import tensorflow as tf\n",
    "from tensorflow.examples.tutorials.mnist import input_data"
   ]
  },
  {
   "cell_type": "code",
   "execution_count": 2,
   "metadata": {},
   "outputs": [
    {
     "name": "stdout",
     "output_type": "stream",
     "text": [
      "WARNING:tensorflow:From <ipython-input-2-0328e0b4fafb>:1: read_data_sets (from tensorflow.contrib.learn.python.learn.datasets.mnist) is deprecated and will be removed in a future version.\n",
      "Instructions for updating:\n",
      "Please use alternatives such as official/mnist/dataset.py from tensorflow/models.\n",
      "WARNING:tensorflow:From /home/aditya/anaconda3/lib/python3.6/site-packages/tensorflow/contrib/learn/python/learn/datasets/mnist.py:260: maybe_download (from tensorflow.contrib.learn.python.learn.datasets.base) is deprecated and will be removed in a future version.\n",
      "Instructions for updating:\n",
      "Please write your own downloading logic.\n",
      "WARNING:tensorflow:From /home/aditya/anaconda3/lib/python3.6/site-packages/tensorflow/contrib/learn/python/learn/datasets/mnist.py:262: extract_images (from tensorflow.contrib.learn.python.learn.datasets.mnist) is deprecated and will be removed in a future version.\n",
      "Instructions for updating:\n",
      "Please use tf.data to implement this functionality.\n",
      "Extracting /tmp/data/train-images-idx3-ubyte.gz\n",
      "WARNING:tensorflow:From /home/aditya/anaconda3/lib/python3.6/site-packages/tensorflow/contrib/learn/python/learn/datasets/mnist.py:267: extract_labels (from tensorflow.contrib.learn.python.learn.datasets.mnist) is deprecated and will be removed in a future version.\n",
      "Instructions for updating:\n",
      "Please use tf.data to implement this functionality.\n",
      "Extracting /tmp/data/train-labels-idx1-ubyte.gz\n",
      "WARNING:tensorflow:From /home/aditya/anaconda3/lib/python3.6/site-packages/tensorflow/contrib/learn/python/learn/datasets/mnist.py:110: dense_to_one_hot (from tensorflow.contrib.learn.python.learn.datasets.mnist) is deprecated and will be removed in a future version.\n",
      "Instructions for updating:\n",
      "Please use tf.one_hot on tensors.\n",
      "Extracting /tmp/data/t10k-images-idx3-ubyte.gz\n",
      "Extracting /tmp/data/t10k-labels-idx1-ubyte.gz\n",
      "WARNING:tensorflow:From /home/aditya/anaconda3/lib/python3.6/site-packages/tensorflow/contrib/learn/python/learn/datasets/mnist.py:290: DataSet.__init__ (from tensorflow.contrib.learn.python.learn.datasets.mnist) is deprecated and will be removed in a future version.\n",
      "Instructions for updating:\n",
      "Please use alternatives such as official/mnist/dataset.py from tensorflow/models.\n"
     ]
    }
   ],
   "source": [
    "mnist = input_data.read_data_sets(\"/tmp/data/\", one_hot = True)"
   ]
  },
  {
   "cell_type": "code",
   "execution_count": 3,
   "metadata": {},
   "outputs": [],
   "source": [
    "learning_rate = 0.01\n",
    "epochs = 100\n",
    "batch_size = 100\n",
    "\n",
    "X = tf.placeholder(tf.float32, shape = [None, 784])\n",
    "Y = tf.placeholder(tf.float32, shape= [None, 10])\n",
    "\n",
    "W = tf.Variable(tf.zeros([784,10]))\n",
    "b = tf.Variable(tf.zeros([10]))\n",
    "\n",
    "pred = tf.nn.softmax(tf.matmul(X, W) + b)\n",
    "\n",
    "cost = tf.reduce_mean(-tf.reduce_sum(Y*tf.log(pred), reduction_indices=1))\n",
    "optimizer = tf.train.GradientDescentOptimizer(learning_rate).minimize(cost)"
   ]
  },
  {
   "cell_type": "code",
   "execution_count": 4,
   "metadata": {},
   "outputs": [],
   "source": [
    "init = tf.global_variables_initializer()"
   ]
  },
  {
   "cell_type": "code",
   "execution_count": 5,
   "metadata": {},
   "outputs": [
    {
     "name": "stdout",
     "output_type": "stream",
     "text": [
      "Epoch: 0 || loss: 1.1844456801631238\n",
      "Epoch: 1 || loss: 0.6654972785711287\n",
      "Epoch: 2 || loss: 0.552955975369974\n",
      "Epoch: 3 || loss: 0.4986634606122967\n",
      "Epoch: 4 || loss: 0.46555701006542555\n",
      "Epoch: 5 || loss: 0.44265525709498993\n",
      "Epoch: 6 || loss: 0.42554695188999153\n",
      "Epoch: 7 || loss: 0.4122048703106967\n",
      "Epoch: 8 || loss: 0.4013975893638352\n",
      "Epoch: 9 || loss: 0.3924739506569776\n",
      "Epoch: 10 || loss: 0.3848149513385511\n",
      "Epoch: 11 || loss: 0.37821648402647523\n",
      "Epoch: 12 || loss: 0.3724225662242286\n",
      "Epoch: 13 || loss: 0.36731120507825515\n",
      "Epoch: 14 || loss: 0.3627471692182805\n",
      "Epoch: 15 || loss: 0.35866520805792373\n",
      "Epoch: 16 || loss: 0.35488811704245504\n",
      "Epoch: 17 || loss: 0.3514626122062856\n",
      "Epoch: 18 || loss: 0.34828766500408004\n",
      "Epoch: 19 || loss: 0.34543044561689545\n",
      "Epoch: 20 || loss: 0.3427739633484324\n",
      "Epoch: 21 || loss: 0.3402599254792389\n",
      "Epoch: 22 || loss: 0.3379672473669054\n",
      "Epoch: 23 || loss: 0.3357063003290786\n",
      "Epoch: 24 || loss: 0.3336768116463315\n",
      "Epoch: 25 || loss: 0.33177949569442067\n",
      "Epoch: 26 || loss: 0.32994049568067874\n",
      "Epoch: 27 || loss: 0.32820892222902975\n",
      "Epoch: 28 || loss: 0.32659340923482694\n",
      "Epoch: 29 || loss: 0.32508601841601464\n",
      "Epoch: 30 || loss: 0.32356411557305925\n",
      "Epoch: 31 || loss: 0.32211053332144585\n",
      "Epoch: 32 || loss: 0.32082502858205253\n",
      "Epoch: 33 || loss: 0.31948627016761066\n",
      "Epoch: 34 || loss: 0.3183252255483103\n",
      "Epoch: 35 || loss: 0.31714091517708526\n",
      "Epoch: 36 || loss: 0.315980813923207\n",
      "Epoch: 37 || loss: 0.3148975961316718\n",
      "Epoch: 38 || loss: 0.3138663256981154\n",
      "Epoch: 39 || loss: 0.3128771831095217\n",
      "Epoch: 40 || loss: 0.3118757576292209\n",
      "Epoch: 41 || loss: 0.31093145673925227\n",
      "Epoch: 42 || loss: 0.31007888338782547\n",
      "Epoch: 43 || loss: 0.3091816715896129\n",
      "Epoch: 44 || loss: 0.3083102035522463\n",
      "Epoch: 45 || loss: 0.3075395868989555\n",
      "Epoch: 46 || loss: 0.30672173452648266\n",
      "Epoch: 47 || loss: 0.305966180481694\n",
      "Epoch: 48 || loss: 0.3052168240601366\n",
      "Epoch: 49 || loss: 0.3044537482342937\n",
      "Epoch: 50 || loss: 0.3037647627971392\n",
      "Epoch: 51 || loss: 0.3031421930139716\n",
      "Epoch: 52 || loss: 0.3024653393301094\n",
      "Epoch: 53 || loss: 0.30176192028956006\n",
      "Epoch: 54 || loss: 0.30118032360618735\n",
      "Epoch: 55 || loss: 0.30055393159389493\n",
      "Epoch: 56 || loss: 0.2999361277303913\n",
      "Epoch: 57 || loss: 0.29938023423606697\n",
      "Epoch: 58 || loss: 0.2988043010776692\n",
      "Epoch: 59 || loss: 0.29826926141977356\n",
      "Epoch: 60 || loss: 0.2977162722024049\n",
      "Epoch: 61 || loss: 0.2971806430816649\n",
      "Epoch: 62 || loss: 0.29667443689974854\n",
      "Epoch: 63 || loss: 0.2961606696789913\n",
      "Epoch: 64 || loss: 0.2957179693200373\n",
      "Epoch: 65 || loss: 0.2951698570901697\n",
      "Epoch: 66 || loss: 0.2947318507866426\n",
      "Epoch: 67 || loss: 0.29427762077613306\n",
      "Epoch: 68 || loss: 0.29380436595190673\n",
      "Epoch: 69 || loss: 0.29336245805025096\n",
      "Epoch: 70 || loss: 0.29292225685986595\n",
      "Epoch: 71 || loss: 0.29250819077545964\n",
      "Epoch: 72 || loss: 0.29210753221403496\n",
      "Epoch: 73 || loss: 0.29165908996354417\n",
      "Epoch: 74 || loss: 0.2913017424805603\n",
      "Epoch: 75 || loss: 0.2908920476111495\n",
      "Epoch: 76 || loss: 0.2905105418237774\n",
      "Epoch: 77 || loss: 0.29013261388648615\n",
      "Epoch: 78 || loss: 0.28973866034637774\n",
      "Epoch: 79 || loss: 0.2893931553580546\n",
      "Epoch: 80 || loss: 0.2890269092538141\n",
      "Epoch: 81 || loss: 0.28870385221459693\n",
      "Epoch: 82 || loss: 0.28834749213673855\n",
      "Epoch: 83 || loss: 0.2880106085809795\n",
      "Epoch: 84 || loss: 0.28764466823502044\n",
      "Epoch: 85 || loss: 0.2872924984043296\n",
      "Epoch: 86 || loss: 0.2869993782991712\n",
      "Epoch: 87 || loss: 0.28667584031820265\n",
      "Epoch: 88 || loss: 0.2863647485727618\n",
      "Epoch: 89 || loss: 0.2860863305357373\n",
      "Epoch: 90 || loss: 0.28576532744548494\n",
      "Epoch: 91 || loss: 0.2854816234924579\n",
      "Epoch: 92 || loss: 0.28513505404645745\n",
      "Epoch: 93 || loss: 0.28486190589991467\n",
      "Epoch: 94 || loss: 0.28457963453097795\n",
      "Epoch: 95 || loss: 0.28432407987388714\n",
      "Epoch: 96 || loss: 0.28400669905272413\n",
      "Epoch: 97 || loss: 0.28378930477933423\n",
      "Epoch: 98 || loss: 0.28350660257718757\n",
      "Epoch: 99 || loss: 0.28321240318092433\n",
      "Accuracy: 0.899\n"
     ]
    }
   ],
   "source": [
    "with tf.Session() as sess:\n",
    "    sess.run(init)\n",
    "    \n",
    "    for epoch in range(epochs):\n",
    "        avg_cost = 0\n",
    "        total_batches = int(mnist.train.num_examples / batch_size)\n",
    "        for i in range(total_batches):\n",
    "            batch_xs, batch_ys = mnist.train.next_batch(batch_size)\n",
    "            _,c = sess.run([optimizer, cost], feed_dict={X: batch_xs,Y: batch_ys})\n",
    "            avg_cost += c/total_batches\n",
    "            \n",
    "        print(\"Epoch: {} || loss: {}\".format(epoch, avg_cost))\n",
    "    \n",
    "    correct = tf.equal(tf.argmax(pred, 1), tf.argmax(Y, 1))\n",
    "    accuracy = tf.reduce_mean(tf.cast(correct, tf.float32))\n",
    "    print(\"Accuracy:\", accuracy.eval({X: mnist.test.images[:3000], Y: mnist.test.labels[:3000]}))"
   ]
  },
  {
   "cell_type": "code",
   "execution_count": 8,
   "metadata": {},
   "outputs": [
    {
     "ename": "ValueError",
     "evalue": "Cannot evaluate tensor using `eval()`: No default session is registered. Use `with sess.as_default()` or pass an explicit session to `eval(session=sess)`",
     "output_type": "error",
     "traceback": [
      "\u001b[0;31m---------------------------------------------------------------------------\u001b[0m",
      "\u001b[0;31mValueError\u001b[0m                                Traceback (most recent call last)",
      "\u001b[0;32m<ipython-input-8-e406d0091c94>\u001b[0m in \u001b[0;36m<module>\u001b[0;34m()\u001b[0m\n\u001b[0;32m----> 1\u001b[0;31m \u001b[0mprint\u001b[0m\u001b[0;34m(\u001b[0m\u001b[0;34m\"Accuracy:\"\u001b[0m\u001b[0;34m,\u001b[0m \u001b[0maccuracy\u001b[0m\u001b[0;34m.\u001b[0m\u001b[0meval\u001b[0m\u001b[0;34m(\u001b[0m\u001b[0;34m{\u001b[0m\u001b[0mX\u001b[0m\u001b[0;34m:\u001b[0m \u001b[0mmnist\u001b[0m\u001b[0;34m.\u001b[0m\u001b[0mtest\u001b[0m\u001b[0;34m.\u001b[0m\u001b[0mimages\u001b[0m\u001b[0;34m[\u001b[0m\u001b[0;34m:\u001b[0m\u001b[0;36m3000\u001b[0m\u001b[0;34m]\u001b[0m\u001b[0;34m,\u001b[0m \u001b[0mY\u001b[0m\u001b[0;34m:\u001b[0m \u001b[0mmnist\u001b[0m\u001b[0;34m.\u001b[0m\u001b[0mtest\u001b[0m\u001b[0;34m.\u001b[0m\u001b[0mlabels\u001b[0m\u001b[0;34m[\u001b[0m\u001b[0;34m:\u001b[0m\u001b[0;36m3000\u001b[0m\u001b[0;34m]\u001b[0m\u001b[0;34m}\u001b[0m\u001b[0;34m)\u001b[0m\u001b[0;34m)\u001b[0m\u001b[0;34m\u001b[0m\u001b[0m\n\u001b[0m",
      "\u001b[0;32m~/anaconda3/lib/python3.6/site-packages/tensorflow/python/framework/ops.py\u001b[0m in \u001b[0;36meval\u001b[0;34m(self, feed_dict, session)\u001b[0m\n\u001b[1;32m    705\u001b[0m \u001b[0;34m\u001b[0m\u001b[0m\n\u001b[1;32m    706\u001b[0m     \"\"\"\n\u001b[0;32m--> 707\u001b[0;31m     \u001b[0;32mreturn\u001b[0m \u001b[0m_eval_using_default_session\u001b[0m\u001b[0;34m(\u001b[0m\u001b[0mself\u001b[0m\u001b[0;34m,\u001b[0m \u001b[0mfeed_dict\u001b[0m\u001b[0;34m,\u001b[0m \u001b[0mself\u001b[0m\u001b[0;34m.\u001b[0m\u001b[0mgraph\u001b[0m\u001b[0;34m,\u001b[0m \u001b[0msession\u001b[0m\u001b[0;34m)\u001b[0m\u001b[0;34m\u001b[0m\u001b[0m\n\u001b[0m\u001b[1;32m    708\u001b[0m \u001b[0;34m\u001b[0m\u001b[0m\n\u001b[1;32m    709\u001b[0m \u001b[0;34m\u001b[0m\u001b[0m\n",
      "\u001b[0;32m~/anaconda3/lib/python3.6/site-packages/tensorflow/python/framework/ops.py\u001b[0m in \u001b[0;36m_eval_using_default_session\u001b[0;34m(tensors, feed_dict, graph, session)\u001b[0m\n\u001b[1;32m   5197\u001b[0m     \u001b[0msession\u001b[0m \u001b[0;34m=\u001b[0m \u001b[0mget_default_session\u001b[0m\u001b[0;34m(\u001b[0m\u001b[0;34m)\u001b[0m\u001b[0;34m\u001b[0m\u001b[0m\n\u001b[1;32m   5198\u001b[0m     \u001b[0;32mif\u001b[0m \u001b[0msession\u001b[0m \u001b[0;32mis\u001b[0m \u001b[0;32mNone\u001b[0m\u001b[0;34m:\u001b[0m\u001b[0;34m\u001b[0m\u001b[0m\n\u001b[0;32m-> 5199\u001b[0;31m       raise ValueError(\"Cannot evaluate tensor using `eval()`: No default \"\n\u001b[0m\u001b[1;32m   5200\u001b[0m                        \u001b[0;34m\"session is registered. Use `with \"\u001b[0m\u001b[0;34m\u001b[0m\u001b[0m\n\u001b[1;32m   5201\u001b[0m                        \u001b[0;34m\"sess.as_default()` or pass an explicit session to \"\u001b[0m\u001b[0;34m\u001b[0m\u001b[0m\n",
      "\u001b[0;31mValueError\u001b[0m: Cannot evaluate tensor using `eval()`: No default session is registered. Use `with sess.as_default()` or pass an explicit session to `eval(session=sess)`"
     ]
    }
   ],
   "source": [
    "    print(\"Accuracy:\", accuracy.eval({X: mnist.test.images[:3000], Y: mnist.test.labels[:3000]}))"
   ]
  },
  {
   "cell_type": "code",
   "execution_count": null,
   "metadata": {},
   "outputs": [],
   "source": []
  }
 ],
 "metadata": {
  "kernelspec": {
   "display_name": "Python 3",
   "language": "python",
   "name": "python3"
  },
  "language_info": {
   "codemirror_mode": {
    "name": "ipython",
    "version": 3
   },
   "file_extension": ".py",
   "mimetype": "text/x-python",
   "name": "python",
   "nbconvert_exporter": "python",
   "pygments_lexer": "ipython3",
   "version": "3.6.5"
  }
 },
 "nbformat": 4,
 "nbformat_minor": 2
}
